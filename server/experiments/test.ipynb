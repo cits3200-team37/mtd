{
 "cells": [
  {
   "cell_type": "code",
   "execution_count": 28,
   "metadata": {
    "collapsed": true
   },
   "outputs": [],
   "source": [
    "import random\n",
    "import warnings\n",
    "warnings.filterwarnings(\"ignore\")\n",
    "from mtdnetwork.component.mtd_scheme import MTDScheme\n",
    "from mtdnetwork.component.time_network import TimeNetwork\n",
    "from mtdnetwork.component.adversary import Adversary\n",
    "from mtdnetwork.data.constants import ATTACKER_THRESHOLD\n",
    "from mtdnetwork.mtd.completetopologyshuffle import CompleteTopologyShuffle\n",
    "from mtdnetwork.mtd.ipshuffle import IPShuffle\n",
    "from mtdnetwork.mtd.hosttopologyshuffle import HostTopologyShuffle\n",
    "from mtdnetwork.mtd.portshuffle import PortShuffle\n",
    "from mtdnetwork.mtd.osdiversity import OSDiversity\n",
    "from mtdnetwork.mtd.servicediversity import ServiceDiversity\n",
    "from mtdnetwork.mtd.usershuffle import UserShuffle\n",
    "import math\n",
    "import networkx as nx"
   ]
  },
  {
   "cell_type": "code",
   "execution_count": 51,
   "outputs": [],
   "source": [
    "\n",
    "def expected_client_connectivity(M, E, C):\n",
    "    ecc = 0  # initialize expected client connectivity to 0\n",
    "    for i in range(len(C)):  # iterate over all subsets of failed connections\n",
    "        prod = 1  # initialize product term to 1\n",
    "        for variant in E:  # iterate over all variant in E\n",
    "            if variant in C[i]:  # if variant is in c\n",
    "                prod *= E[variant]  # multiply by the probability of failure\n",
    "            else:\n",
    "                prod *= (1 - E[variant])  # multiply by the probability of not failing\n",
    "\n",
    "        ecc += prod * M[i]  # add product term times sum term to ecc\n",
    "    return ecc\n"
   ],
   "metadata": {
    "collapsed": false,
    "pycharm": {
     "name": "#%%\n"
    }
   }
  },
  {
   "cell_type": "code",
   "execution_count": 52,
   "outputs": [
    {
     "data": {
      "text/plain": "0.8383333333333334"
     },
     "execution_count": 52,
     "metadata": {},
     "output_type": "execute_result"
    }
   ],
   "source": [
    "\n",
    "E = {'b':0.15, 'r':0.1}\n",
    "C = [ {} , {'b'}, {'r'}, {'b', 'r'}]\n",
    "M = [3 * math.comb(3, 2) ** -1, 1*math.comb(3, 2) ** -1, 1*math.comb(3, 2) ** -1, 0]\n",
    "\n",
    "expected_client_connectivity(M, E, C)"
   ],
   "metadata": {
    "collapsed": false,
    "pycharm": {
     "name": "#%%\n"
    }
   }
  },
  {
   "cell_type": "code",
   "execution_count": 1,
   "outputs": [
    {
     "data": {
      "text/plain": "1.0"
     },
     "execution_count": 1,
     "metadata": {},
     "output_type": "execute_result"
    }
   ],
   "source": [
    "(2 * (2 - 1) / 2) ** (-1)"
   ],
   "metadata": {
    "collapsed": false,
    "pycharm": {
     "name": "#%%\n"
    }
   }
  },
  {
   "cell_type": "code",
   "execution_count": 9,
   "outputs": [
    {
     "data": {
      "text/plain": "   a  b  c\n0  1  2  5\n1  3  4  5",
      "text/html": "<div>\n<style scoped>\n    .dataframe tbody tr th:only-of-type {\n        vertical-align: middle;\n    }\n\n    .dataframe tbody tr th {\n        vertical-align: top;\n    }\n\n    .dataframe thead th {\n        text-align: right;\n    }\n</style>\n<table border=\"1\" class=\"dataframe\">\n  <thead>\n    <tr style=\"text-align: right;\">\n      <th></th>\n      <th>a</th>\n      <th>b</th>\n      <th>c</th>\n    </tr>\n  </thead>\n  <tbody>\n    <tr>\n      <th>0</th>\n      <td>1</td>\n      <td>2</td>\n      <td>5</td>\n    </tr>\n    <tr>\n      <th>1</th>\n      <td>3</td>\n      <td>4</td>\n      <td>5</td>\n    </tr>\n  </tbody>\n</table>\n</div>"
     },
     "execution_count": 9,
     "metadata": {},
     "output_type": "execute_result"
    }
   ],
   "source": [
    "import pandas as pd\n",
    "a = pd.DataFrame([{'a': 1, 'b': 2}, {'a':3, 'b':4}])\n",
    "a['c'] = 5\n",
    "a"
   ],
   "metadata": {
    "collapsed": false,
    "pycharm": {
     "name": "#%%\n"
    }
   }
  },
  {
   "cell_type": "code",
   "execution_count": 2,
   "outputs": [
    {
     "name": "stdout",
     "output_type": "stream",
     "text": [
      "[1, 1, 1, 1, 1, 1, 1, 1, 1, 1]\n",
      "[2, 2, 2, 2, 2, 2, 2, 2, 2, 2]\n"
     ]
    }
   ],
   "source": [
    "from joblib import Parallel, delayed\n",
    "\n",
    "# Define a function to generate each pair of elements\n",
    "def generate_pair():\n",
    "    # replace this with your own code to generate the pair of elements\n",
    "    return 1, 2\n",
    "\n",
    "# Define the number of iterations and the lists to append to\n",
    "n_iterations = 10\n",
    "list1 = []\n",
    "list2 = []\n",
    "\n",
    "# Run the for loop in parallel using joblib\n",
    "results = Parallel(n_jobs=-1)(\n",
    "    delayed(generate_pair)() for i in range(n_iterations)\n",
    ")\n",
    "\n",
    "# Append the results to the lists\n",
    "for result in results:\n",
    "    list1.append(result[0])\n",
    "    list2.append(result[1])\n",
    "\n",
    "print(list1)\n",
    "print(list2)\n"
   ],
   "metadata": {
    "collapsed": false,
    "pycharm": {
     "name": "#%%\n"
    }
   }
  },
  {
   "cell_type": "code",
   "execution_count": 1,
   "outputs": [
    {
     "data": {
      "text/plain": "0"
     },
     "execution_count": 1,
     "metadata": {},
     "output_type": "execute_result"
    }
   ],
   "source": [
    "1 // 5"
   ],
   "metadata": {
    "collapsed": false,
    "pycharm": {
     "name": "#%%\n"
    }
   }
  },
  {
   "cell_type": "markdown",
   "source": [],
   "metadata": {
    "collapsed": false,
    "pycharm": {
     "name": "#%% md\n"
    }
   }
  }
 ],
 "metadata": {
  "kernelspec": {
   "display_name": "Python 3",
   "language": "python",
   "name": "python3"
  },
  "language_info": {
   "codemirror_mode": {
    "name": "ipython",
    "version": 2
   },
   "file_extension": ".py",
   "mimetype": "text/x-python",
   "name": "python",
   "nbconvert_exporter": "python",
   "pygments_lexer": "ipython2",
   "version": "2.7.6"
  }
 },
 "nbformat": 4,
 "nbformat_minor": 0
}